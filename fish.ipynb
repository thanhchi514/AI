{
  "cells": [
    {
      "cell_type": "markdown",
      "metadata": {
        "id": "view-in-github",
        "colab_type": "text"
      },
      "source": [
        "<a href=\"https://colab.research.google.com/github/thanhchi514/AI/blob/main/fish.ipynb\" target=\"_parent\"><img src=\"https://colab.research.google.com/assets/colab-badge.svg\" alt=\"Open In Colab\"/></a>"
      ]
    },
    {
      "cell_type": "code",
      "execution_count": null,
      "metadata": {
        "colab": {
          "base_uri": "https://localhost:8080/"
        },
        "id": "vIEV31-SJUWJ",
        "outputId": "4b18d898-b95d-421f-fa4d-7c46d5e2a71c"
      },
      "outputs": [
        {
          "output_type": "stream",
          "name": "stdout",
          "text": [
            "Drive already mounted at /content/drive; to attempt to forcibly remount, call drive.mount(\"/content/drive\", force_remount=True).\n"
          ]
        }
      ],
      "source": [
        "from os import listdir\n",
        "from numpy import asarray\n",
        "from numpy import save\n",
        "from keras.utils import load_img, img_to_array\n",
        "import matplotlib.pyplot as plt\n",
        "from google.colab import drive\n",
        "drive.mount('/content/drive')"
      ]
    },
    {
      "cell_type": "code",
      "execution_count": null,
      "metadata": {
        "id": "ujnFVI8CKHRR"
      },
      "outputs": [],
      "source": [
        "\"\"\"folder = '/content/drive/MyDrive/data_fish_text'\n",
        "photos, labels = list(), list()\n",
        "for file in listdir(folder):\n",
        "  if file.startswith('cachep'):\n",
        "    output = 0\n",
        "  elif file.startswith('calaukieng'):\n",
        "    output = 1\n",
        "  elif file.startswith('carophi'):\n",
        "    output = 2\n",
        "  elif file.startswith('cathaclac'):\n",
        "    output = 3\n",
        "  elif file.startswith('catre'):\n",
        "    output = 4\n",
        "  else:\n",
        "    continue\n",
        "  photo = load_img(folder + '/' + file, target_size=(30, 40))\n",
        "  photo = img_to_array(photo)\n",
        "  photos.append(photo)\n",
        "  labels.append(output)\n",
        "photos = asarray(photos)\n",
        "labels = asarray(labels)\n",
        "save('Photos.npy', photos)\n",
        "save('Labels.npy', labels)\"\"\""
      ]
    },
    {
      "cell_type": "code",
      "execution_count": null,
      "metadata": {
        "id": "k8IBdP43Odno"
      },
      "outputs": [],
      "source": [
        "\"\"\"!cp Photos.npy \"/content/drive/My Drive/Colab Notebooks\"\n",
        "!cp Labels.npy \"/content/drive/My Drive/Colab Notebooks\"\"\""
      ]
    },
    {
      "cell_type": "code",
      "execution_count": null,
      "metadata": {
        "id": "xhlQyCDjOGzB"
      },
      "outputs": [],
      "source": [
        "from sklearn.model_selection import train_test_split\n",
        "import numpy as np\n",
        "photos = np.load('/content/drive/My Drive/Colab Notebooks/Photos.npy')\n",
        "labels = np.load('/content/drive/My Drive/Colab Notebooks/Labels.npy')\n",
        "\n",
        "x_train, x_test, y_train, y_test = train_test_split(photos, labels, test_size=0.3)"
      ]
    },
    {
      "cell_type": "code",
      "execution_count": null,
      "metadata": {
        "colab": {
          "base_uri": "https://localhost:8080/"
        },
        "id": "hSSmKLdfROvP",
        "outputId": "9c19bc4f-fa5d-454a-f0b5-20c08e6c6662"
      },
      "outputs": [
        {
          "output_type": "stream",
          "name": "stdout",
          "text": [
            "x_train shape:  (2746, 30, 40, 3)\n",
            "x_test shape:  (1177, 30, 40, 3)\n",
            "y_train shape:  (2746,)\n",
            "y_test shape:  (1177,)\n"
          ]
        }
      ],
      "source": [
        "print(\"x_train shape: \", x_train.shape)\n",
        "print(\"x_test shape: \", x_test.shape)\n",
        "print(\"y_train shape: \", y_train.shape)\n",
        "print(\"y_test shape: \", y_test.shape)"
      ]
    },
    {
      "cell_type": "code",
      "execution_count": null,
      "metadata": {
        "id": "LK49ioc6UzBo"
      },
      "outputs": [],
      "source": [
        "x_train = x_train.reshape(x_train.shape[0], 30, 40, 3)\n",
        "x_test = x_test.reshape(x_test.shape[0], 30, 40, 3)\n",
        "x_train = x_train.astype('float32') / 255\n",
        "x_test = x_test.astype('float32') / 255"
      ]
    },
    {
      "cell_type": "code",
      "execution_count": null,
      "metadata": {
        "id": "LsbUSzZIVPwg"
      },
      "outputs": [],
      "source": [
        "from keras.utils import to_categorical\n",
        "y_train = to_categorical(y_train, 5)\n",
        "y_test = to_categorical(y_test, 5)"
      ]
    },
    {
      "cell_type": "code",
      "execution_count": null,
      "metadata": {
        "colab": {
          "base_uri": "https://localhost:8080/"
        },
        "id": "Xj1pmvvqW3Ih",
        "outputId": "7e3fd311-87da-4828-c1fe-b51854f3e0c2"
      },
      "outputs": [
        {
          "output_type": "stream",
          "name": "stdout",
          "text": [
            "Model: \"sequential\"\n",
            "_________________________________________________________________\n",
            " Layer (type)                Output Shape              Param #   \n",
            "=================================================================\n",
            " conv2d (Conv2D)             (None, 28, 38, 32)        896       \n",
            "                                                                 \n",
            " leaky_re_lu (LeakyReLU)     (None, 28, 38, 32)        0         \n",
            "                                                                 \n",
            " max_pooling2d (MaxPooling2D  (None, 14, 19, 32)       0         \n",
            " )                                                               \n",
            "                                                                 \n",
            " dropout (Dropout)           (None, 14, 19, 32)        0         \n",
            "                                                                 \n",
            " conv2d_1 (Conv2D)           (None, 12, 17, 64)        18496     \n",
            "                                                                 \n",
            " leaky_re_lu_1 (LeakyReLU)   (None, 12, 17, 64)        0         \n",
            "                                                                 \n",
            " max_pooling2d_1 (MaxPooling  (None, 6, 8, 64)         0         \n",
            " 2D)                                                             \n",
            "                                                                 \n",
            " dropout_1 (Dropout)         (None, 6, 8, 64)          0         \n",
            "                                                                 \n",
            " conv2d_2 (Conv2D)           (None, 4, 6, 128)         73856     \n",
            "                                                                 \n",
            " leaky_re_lu_2 (LeakyReLU)   (None, 4, 6, 128)         0         \n",
            "                                                                 \n",
            " max_pooling2d_2 (MaxPooling  (None, 2, 3, 128)        0         \n",
            " 2D)                                                             \n",
            "                                                                 \n",
            " dropout_2 (Dropout)         (None, 2, 3, 128)         0         \n",
            "                                                                 \n",
            " flatten (Flatten)           (None, 768)               0         \n",
            "                                                                 \n",
            " dense (Dense)               (None, 128)               98432     \n",
            "                                                                 \n",
            " leaky_re_lu_3 (LeakyReLU)   (None, 128)               0         \n",
            "                                                                 \n",
            " dropout_3 (Dropout)         (None, 128)               0         \n",
            "                                                                 \n",
            " dense_1 (Dense)             (None, 5)                 645       \n",
            "                                                                 \n",
            "=================================================================\n",
            "Total params: 192,325\n",
            "Trainable params: 192,325\n",
            "Non-trainable params: 0\n",
            "_________________________________________________________________\n"
          ]
        }
      ],
      "source": [
        "from keras.models import Sequential\n",
        "from keras.layers import Dense, Conv2D, Flatten, MaxPooling2D, LeakyReLU, Dropout\n",
        "model = Sequential()\n",
        "#training data to recognize different faces, remember to use LeakyReLU, Dropout, Normalization\n",
        "model.add(Conv2D(32, kernel_size=3, activation='relu', input_shape=(30, 40, 3)))\n",
        "model.add(LeakyReLU(alpha=0.1))\n",
        "model.add(MaxPooling2D(pool_size=(2, 2)))\n",
        "model.add(Dropout(0.25))\n",
        "\n",
        "model.add(Conv2D(64, kernel_size=3, activation='relu'))\n",
        "model.add(LeakyReLU(alpha=0.1))\n",
        "model.add(MaxPooling2D(pool_size=(2, 2)))\n",
        "model.add(Dropout(0.25))\n",
        "\n",
        "model.add(Conv2D(128, kernel_size=3, activation='relu'))\n",
        "model.add(LeakyReLU(alpha=0.1))\n",
        "model.add(MaxPooling2D(pool_size=(2, 2)))\n",
        "model.add(Dropout(0.4))\n",
        "\n",
        "model.add(Flatten())\n",
        "\n",
        "model.add(Dense(128, activation='relu'))\n",
        "model.add(LeakyReLU(alpha=0.1))\n",
        "model.add(Dropout(0.3))\n",
        "\n",
        "model.add(Dense(5, activation='softmax'))\n",
        "\n",
        "model.summary()\n"
      ]
    },
    {
      "cell_type": "code",
      "execution_count": null,
      "metadata": {
        "colab": {
          "base_uri": "https://localhost:8080/"
        },
        "id": "Bc-iifSrXA4t",
        "outputId": "59a2a2a8-585e-4fa4-edc6-f8db59909f47"
      },
      "outputs": [
        {
          "output_type": "stream",
          "name": "stdout",
          "text": [
            "Epoch 1/100\n",
            "86/86 [==============================] - 12s 14ms/step - loss: 1.3311 - accuracy: 0.5222 - val_loss: 1.2915 - val_accuracy: 0.5667\n",
            "Epoch 2/100\n",
            "86/86 [==============================] - 1s 7ms/step - loss: 1.1749 - accuracy: 0.5761 - val_loss: 1.0250 - val_accuracy: 0.6330\n",
            "Epoch 3/100\n",
            "86/86 [==============================] - 1s 6ms/step - loss: 1.0245 - accuracy: 0.6264 - val_loss: 0.8664 - val_accuracy: 0.6771\n",
            "Epoch 4/100\n",
            "86/86 [==============================] - 1s 6ms/step - loss: 0.9173 - accuracy: 0.6577 - val_loss: 0.8208 - val_accuracy: 0.6975\n",
            "Epoch 5/100\n",
            "86/86 [==============================] - 1s 6ms/step - loss: 0.8484 - accuracy: 0.6850 - val_loss: 0.7751 - val_accuracy: 0.7145\n",
            "Epoch 6/100\n",
            "86/86 [==============================] - 1s 6ms/step - loss: 0.7880 - accuracy: 0.7036 - val_loss: 0.7112 - val_accuracy: 0.7409\n",
            "Epoch 7/100\n",
            "86/86 [==============================] - 0s 6ms/step - loss: 0.7324 - accuracy: 0.7305 - val_loss: 0.6636 - val_accuracy: 0.7468\n",
            "Epoch 8/100\n",
            "86/86 [==============================] - 1s 7ms/step - loss: 0.7012 - accuracy: 0.7429 - val_loss: 0.6519 - val_accuracy: 0.7519\n",
            "Epoch 9/100\n",
            "86/86 [==============================] - 1s 8ms/step - loss: 0.6405 - accuracy: 0.7600 - val_loss: 0.5975 - val_accuracy: 0.7859\n",
            "Epoch 10/100\n",
            "86/86 [==============================] - 1s 8ms/step - loss: 0.6047 - accuracy: 0.7815 - val_loss: 0.5604 - val_accuracy: 0.8122\n",
            "Epoch 11/100\n",
            "86/86 [==============================] - 1s 8ms/step - loss: 0.5798 - accuracy: 0.7917 - val_loss: 0.5788 - val_accuracy: 0.8029\n",
            "Epoch 12/100\n",
            "86/86 [==============================] - 1s 8ms/step - loss: 0.5593 - accuracy: 0.7884 - val_loss: 0.5372 - val_accuracy: 0.8173\n",
            "Epoch 13/100\n",
            "86/86 [==============================] - 1s 7ms/step - loss: 0.5146 - accuracy: 0.8132 - val_loss: 0.5134 - val_accuracy: 0.8182\n",
            "Epoch 14/100\n",
            "86/86 [==============================] - 1s 7ms/step - loss: 0.4911 - accuracy: 0.8274 - val_loss: 0.4857 - val_accuracy: 0.8343\n",
            "Epoch 15/100\n",
            "86/86 [==============================] - 1s 6ms/step - loss: 0.4591 - accuracy: 0.8372 - val_loss: 0.5133 - val_accuracy: 0.8114\n",
            "Epoch 16/100\n",
            "86/86 [==============================] - 1s 6ms/step - loss: 0.4341 - accuracy: 0.8449 - val_loss: 0.4560 - val_accuracy: 0.8360\n",
            "Epoch 17/100\n",
            "86/86 [==============================] - 1s 6ms/step - loss: 0.3965 - accuracy: 0.8576 - val_loss: 0.4281 - val_accuracy: 0.8462\n",
            "Epoch 18/100\n",
            "86/86 [==============================] - 1s 6ms/step - loss: 0.3807 - accuracy: 0.8620 - val_loss: 0.4641 - val_accuracy: 0.8564\n",
            "Epoch 19/100\n",
            "86/86 [==============================] - 1s 6ms/step - loss: 0.3846 - accuracy: 0.8591 - val_loss: 0.4203 - val_accuracy: 0.8658\n",
            "Epoch 20/100\n",
            "86/86 [==============================] - 1s 6ms/step - loss: 0.3526 - accuracy: 0.8773 - val_loss: 0.4208 - val_accuracy: 0.8590\n",
            "Epoch 21/100\n",
            "86/86 [==============================] - 0s 6ms/step - loss: 0.3372 - accuracy: 0.8787 - val_loss: 0.3918 - val_accuracy: 0.8641\n",
            "Epoch 22/100\n",
            "86/86 [==============================] - 1s 7ms/step - loss: 0.3132 - accuracy: 0.8915 - val_loss: 0.3900 - val_accuracy: 0.8717\n",
            "Epoch 23/100\n",
            "86/86 [==============================] - 1s 6ms/step - loss: 0.2853 - accuracy: 0.9020 - val_loss: 0.3829 - val_accuracy: 0.8811\n",
            "Epoch 24/100\n",
            "86/86 [==============================] - 0s 6ms/step - loss: 0.2816 - accuracy: 0.9013 - val_loss: 0.3651 - val_accuracy: 0.8785\n",
            "Epoch 25/100\n",
            "86/86 [==============================] - 1s 6ms/step - loss: 0.2658 - accuracy: 0.9111 - val_loss: 0.4010 - val_accuracy: 0.8828\n",
            "Epoch 26/100\n",
            "86/86 [==============================] - 1s 6ms/step - loss: 0.2601 - accuracy: 0.9086 - val_loss: 0.3575 - val_accuracy: 0.8929\n",
            "Epoch 27/100\n",
            "86/86 [==============================] - 1s 7ms/step - loss: 0.2469 - accuracy: 0.9122 - val_loss: 0.3622 - val_accuracy: 0.8743\n",
            "Epoch 28/100\n",
            "86/86 [==============================] - 1s 6ms/step - loss: 0.2281 - accuracy: 0.9173 - val_loss: 0.4135 - val_accuracy: 0.8709\n",
            "Epoch 29/100\n",
            "86/86 [==============================] - 1s 6ms/step - loss: 0.2310 - accuracy: 0.9126 - val_loss: 0.3438 - val_accuracy: 0.8989\n",
            "Epoch 30/100\n",
            "86/86 [==============================] - 1s 7ms/step - loss: 0.2134 - accuracy: 0.9297 - val_loss: 0.3593 - val_accuracy: 0.8862\n",
            "Epoch 31/100\n",
            "86/86 [==============================] - 1s 6ms/step - loss: 0.2040 - accuracy: 0.9264 - val_loss: 0.3926 - val_accuracy: 0.8879\n",
            "Epoch 32/100\n",
            "86/86 [==============================] - 1s 10ms/step - loss: 0.1759 - accuracy: 0.9385 - val_loss: 0.4217 - val_accuracy: 0.8734\n",
            "Epoch 33/100\n",
            "86/86 [==============================] - 1s 11ms/step - loss: 0.1918 - accuracy: 0.9279 - val_loss: 0.3773 - val_accuracy: 0.8768\n",
            "Epoch 34/100\n",
            "86/86 [==============================] - 1s 10ms/step - loss: 0.1706 - accuracy: 0.9370 - val_loss: 0.3408 - val_accuracy: 0.8879\n",
            "Epoch 34: early stopping\n"
          ]
        }
      ],
      "source": [
        "#compile stop when the accuracy stop increasing\n",
        "from keras.callbacks import EarlyStopping\n",
        "early_stopping = EarlyStopping(monitor='val_accuracy', patience=5, verbose=1, mode='max')\n",
        "model.compile(optimizer='adam', loss='categorical_crossentropy', metrics=['accuracy'])\n",
        "training = model.fit(x_train, y_train, validation_data=(x_test, y_test), batch_size = 32, epochs=100, callbacks=[early_stopping])"
      ]
    },
    {
      "cell_type": "code",
      "execution_count": null,
      "metadata": {
        "colab": {
          "base_uri": "https://localhost:8080/"
        },
        "id": "KLF72antYKI3",
        "outputId": "db55dbb6-9d11-4425-803f-6f0c1feafbfe"
      },
      "outputs": [
        {
          "output_type": "stream",
          "name": "stdout",
          "text": [
            "Test loss: 0.3408369719982147\n",
            "Test accuracy: 0.8878504633903503\n"
          ]
        }
      ],
      "source": [
        "#evaluate score\n",
        "score = model.evaluate(x_test, y_test, verbose=0)\n",
        "print('Test loss:', score[0])\n",
        "print('Test accuracy:', score[1])"
      ]
    },
    {
      "cell_type": "code",
      "source": [
        "plt.plot(training.history['accuracy'])\n",
        "plt.plot(training.history['val_accuracy'])\n",
        "plt.title('model accuracy')\n",
        "plt.ylabel('accuracy')\n",
        "plt.xlabel('epoch')\n",
        "plt.legend(['train', 'validation'], loc='upper left')\n",
        "plt.show()"
      ],
      "metadata": {
        "colab": {
          "base_uri": "https://localhost:8080/",
          "height": 472
        },
        "id": "3Qke9Rkg4M3d",
        "outputId": "9c0c6514-49f6-475a-b9cb-861d5b9893ef"
      },
      "execution_count": null,
      "outputs": [
        {
          "output_type": "display_data",
          "data": {
            "text/plain": [
              "<Figure size 640x480 with 1 Axes>"
            ],
            "image/png": "[encoded data removed]"
          },
          "metadata": {}
        }
      ]
    },
    {
      "cell_type": "code",
      "source": [
        "model.save('model.h5')"
      ],
      "metadata": {
        "id": "aIVmaf47pOpq"
      },
      "execution_count": null,
      "outputs": []
    },
    {
      "cell_type": "code",
      "source": [
        "!cp model.h5 '/content/drive/MyDrive/Colab Notebooks/'"
      ],
      "metadata": {
        "id": "H7YRWgkBpSQg"
      },
      "execution_count": null,
      "outputs": []
    }
  ],
  "metadata": {
    "accelerator": "GPU",
    "colab": {
      "provenance": [],
      "gpuType": "T4",
      "include_colab_link": true
    },
    "gpuClass": "standard",
    "kernelspec": {
      "display_name": "Python 3",
      "name": "python3"
    },
    "language_info": {
      "name": "python"
    }
  },
  "nbformat": 4,
  "nbformat_minor": 0
}